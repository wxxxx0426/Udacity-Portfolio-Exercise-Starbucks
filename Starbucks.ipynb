{
 "cells": [
  {
   "cell_type": "markdown",
   "metadata": {},
   "source": [
    "## Portfolio Exercise: Starbucks\n",
    "<br>\n",
    "\n",
    "<img src=\"https://opj.ca/wp-content/uploads/2018/02/New-Starbucks-Logo-1200x969.jpg\" width=\"200\" height=\"200\">\n",
    "<br>\n",
    "<br>\n",
    " \n",
    "#### Background Information\n",
    "\n",
    "The dataset you will be provided in this portfolio exercise was originally used as a take-home assignment provided by Starbucks for their job candidates. The data for this exercise consists of about 120,000 data points split in a 2:1 ratio among training and test files. In the experiment simulated by the data, an advertising promotion was tested to see if it would bring more customers to purchase a specific product priced at $10. Since it costs the company 0.15 to send out each promotion, it would be best to limit that promotion only to those that are most receptive to the promotion. Each data point includes one column indicating whether or not an individual was sent a promotion for the product, and one column indicating whether or not that individual eventually purchased that product. Each individual also has seven additional features associated with them, which are provided abstractly as V1-V7.\n",
    "\n",
    "#### Optimization Strategy\n",
    "\n",
    "Your task is to use the training data to understand what patterns in V1-V7 to indicate that a promotion should be provided to a user. Specifically, your goal is to maximize the following metrics:\n",
    "\n",
    "* **Incremental Response Rate (IRR)** \n",
    "\n",
    "IRR depicts how many more customers purchased the product with the promotion, as compared to if they didn't receive the promotion. Mathematically, it's the ratio of the number of purchasers in the promotion group to the total number of customers in the purchasers group (_treatment_) minus the ratio of the number of purchasers in the non-promotional group to the total number of customers in the non-promotional group (_control_).\n",
    "\n",
    "$$ IRR = \\frac{purch_{treat}}{cust_{treat}} - \\frac{purch_{ctrl}}{cust_{ctrl}} $$\n",
    "\n",
    "\n",
    "* **Net Incremental Revenue (NIR)**\n",
    "\n",
    "NIR depicts how much is made (or lost) by sending out the promotion. Mathematically, this is 10 times the total number of purchasers that received the promotion minus 0.15 times the number of promotions sent out, minus 10 times the number of purchasers who were not given the promotion.\n",
    "\n",
    "$$ NIR = (10\\cdot purch_{treat} - 0.15 \\cdot cust_{treat}) - 10 \\cdot purch_{ctrl}$$\n",
    "\n",
    "For a full description of what Starbucks provides to candidates see the [instructions available here](https://drive.google.com/open?id=18klca9Sef1Rs6q8DW4l7o349r8B70qXM).\n",
    "\n",
    "Below you can find the training data provided.  Explore the data and different optimization strategies.\n",
    "\n",
    "#### How To Test Your Strategy?\n",
    "\n",
    "When you feel like you have an optimization strategy, complete the `promotion_strategy` function to pass to the `test_results` function.  \n",
    "From past data, we know there are four possible outomes:\n",
    "\n",
    "Table of actual promotion vs. predicted promotion customers:  \n",
    "\n",
    "<table>\n",
    "<tr><th></th><th colspan = '2'>Actual</th></tr>\n",
    "<tr><th>Predicted</th><th>Yes</th><th>No</th></tr>\n",
    "<tr><th>Yes</th><td>I</td><td>II</td></tr>\n",
    "<tr><th>No</th><td>III</td><td>IV</td></tr>\n",
    "</table>\n",
    "\n",
    "The metrics are only being compared for the individuals we predict should obtain the promotion – that is, quadrants I and II.  Since the first set of individuals that receive the promotion (in the training set) receive it randomly, we can expect that quadrants I and II will have approximately equivalent participants.  \n",
    "\n",
    "Comparing quadrant I to II then gives an idea of how well your promotion strategy will work in the future. \n",
    "\n",
    "Get started by reading in the data below.  See how each variable or combination of variables along with a promotion influences the chance of purchasing.  When you feel like you have a strategy for who should receive a promotion, test your strategy against the test dataset used in the final `test_results` function."
   ]
  },
  {
   "cell_type": "code",
   "execution_count": 2,
   "metadata": {},
   "outputs": [
    {
     "data": {
      "text/html": "<div>\n<style scoped>\n    .dataframe tbody tr th:only-of-type {\n        vertical-align: middle;\n    }\n\n    .dataframe tbody tr th {\n        vertical-align: top;\n    }\n\n    .dataframe thead th {\n        text-align: right;\n    }\n</style>\n<table border=\"1\" class=\"dataframe\">\n  <thead>\n    <tr style=\"text-align: right;\">\n      <th></th>\n      <th>ID</th>\n      <th>Promotion</th>\n      <th>purchase</th>\n      <th>V1</th>\n      <th>V2</th>\n      <th>V3</th>\n      <th>V4</th>\n      <th>V5</th>\n      <th>V6</th>\n      <th>V7</th>\n    </tr>\n  </thead>\n  <tbody>\n    <tr>\n      <th>0</th>\n      <td>1</td>\n      <td>No</td>\n      <td>0</td>\n      <td>2</td>\n      <td>30.443518</td>\n      <td>-1.165083</td>\n      <td>1</td>\n      <td>1</td>\n      <td>3</td>\n      <td>2</td>\n    </tr>\n    <tr>\n      <th>1</th>\n      <td>3</td>\n      <td>No</td>\n      <td>0</td>\n      <td>3</td>\n      <td>32.159350</td>\n      <td>-0.645617</td>\n      <td>2</td>\n      <td>3</td>\n      <td>2</td>\n      <td>2</td>\n    </tr>\n    <tr>\n      <th>2</th>\n      <td>4</td>\n      <td>No</td>\n      <td>0</td>\n      <td>2</td>\n      <td>30.431659</td>\n      <td>0.133583</td>\n      <td>1</td>\n      <td>1</td>\n      <td>4</td>\n      <td>2</td>\n    </tr>\n    <tr>\n      <th>3</th>\n      <td>5</td>\n      <td>No</td>\n      <td>0</td>\n      <td>0</td>\n      <td>26.588914</td>\n      <td>-0.212728</td>\n      <td>2</td>\n      <td>1</td>\n      <td>4</td>\n      <td>2</td>\n    </tr>\n    <tr>\n      <th>4</th>\n      <td>8</td>\n      <td>Yes</td>\n      <td>0</td>\n      <td>3</td>\n      <td>28.044332</td>\n      <td>-0.385883</td>\n      <td>1</td>\n      <td>1</td>\n      <td>2</td>\n      <td>2</td>\n    </tr>\n  </tbody>\n</table>\n</div>",
      "text/plain": "   ID Promotion  purchase  V1         V2        V3  V4  V5  V6  V7\n0   1        No         0   2  30.443518 -1.165083   1   1   3   2\n1   3        No         0   3  32.159350 -0.645617   2   3   2   2\n2   4        No         0   2  30.431659  0.133583   1   1   4   2\n3   5        No         0   0  26.588914 -0.212728   2   1   4   2\n4   8       Yes         0   3  28.044332 -0.385883   1   1   2   2"
     },
     "execution_count": 2,
     "metadata": {},
     "output_type": "execute_result"
    }
   ],
   "source": [
    "# load in packages\n",
    "from itertools import combinations\n",
    "\n",
    "from test_results import test_results, score\n",
    "import numpy as np\n",
    "import pandas as pd\n",
    "import scipy as sp\n",
    "from sklearn.linear_model import LogisticRegression\n",
    "from sklearn.metrics import confusion_matrix, precision_score, recall_score\n",
    "from sklearn.model_selection import train_test_split\n",
    "import statsmodels.stats.proportion as propstest\n",
    "\n",
    "import matplotlib.pyplot as plt\n",
    "import seaborn as sb\n",
    "%matplotlib inline\n",
    "\n",
    "# load in the data\n",
    "train_data = pd.read_csv('./training.csv')\n",
    "train_data.head()"
   ]
  },
  {
   "cell_type": "markdown",
   "metadata": {},
   "source": [
    "# Data Explotation"
   ]
  },
  {
   "cell_type": "code",
   "execution_count": 3,
   "metadata": {},
   "outputs": [
    {
     "data": {
      "text/plain": "ID           0\nPromotion    0\npurchase     0\nV1           0\nV2           0\nV3           0\nV4           0\nV5           0\nV6           0\nV7           0\ndtype: int64"
     },
     "execution_count": 3,
     "metadata": {},
     "output_type": "execute_result"
    }
   ],
   "source": [
    "#check missing values\n",
    "train_data.isnull().sum()"
   ]
  },
  {
   "cell_type": "code",
   "execution_count": 4,
   "metadata": {},
   "outputs": [
    {
     "data": {
      "text/html": "<div>\n<style scoped>\n    .dataframe tbody tr th:only-of-type {\n        vertical-align: middle;\n    }\n\n    .dataframe tbody tr th {\n        vertical-align: top;\n    }\n\n    .dataframe thead th {\n        text-align: right;\n    }\n</style>\n<table border=\"1\" class=\"dataframe\">\n  <thead>\n    <tr style=\"text-align: right;\">\n      <th></th>\n      <th>ID</th>\n      <th>purchase</th>\n      <th>V1</th>\n      <th>V2</th>\n      <th>V3</th>\n      <th>V4</th>\n      <th>V5</th>\n      <th>V6</th>\n      <th>V7</th>\n    </tr>\n  </thead>\n  <tbody>\n    <tr>\n      <th>count</th>\n      <td>84534.000000</td>\n      <td>84534.000000</td>\n      <td>84534.000000</td>\n      <td>84534.000000</td>\n      <td>84534.000000</td>\n      <td>84534.000000</td>\n      <td>84534.000000</td>\n      <td>84534.000000</td>\n      <td>84534.000000</td>\n    </tr>\n    <tr>\n      <th>mean</th>\n      <td>62970.972413</td>\n      <td>0.012303</td>\n      <td>1.500662</td>\n      <td>29.973600</td>\n      <td>0.000190</td>\n      <td>1.679608</td>\n      <td>2.327643</td>\n      <td>2.502898</td>\n      <td>1.701694</td>\n    </tr>\n    <tr>\n      <th>std</th>\n      <td>36418.440539</td>\n      <td>0.110234</td>\n      <td>0.868234</td>\n      <td>5.010626</td>\n      <td>1.000485</td>\n      <td>0.466630</td>\n      <td>0.841167</td>\n      <td>1.117349</td>\n      <td>0.457517</td>\n    </tr>\n    <tr>\n      <th>min</th>\n      <td>1.000000</td>\n      <td>0.000000</td>\n      <td>0.000000</td>\n      <td>7.104007</td>\n      <td>-1.684550</td>\n      <td>1.000000</td>\n      <td>1.000000</td>\n      <td>1.000000</td>\n      <td>1.000000</td>\n    </tr>\n    <tr>\n      <th>25%</th>\n      <td>31467.250000</td>\n      <td>0.000000</td>\n      <td>1.000000</td>\n      <td>26.591501</td>\n      <td>-0.905350</td>\n      <td>1.000000</td>\n      <td>2.000000</td>\n      <td>2.000000</td>\n      <td>1.000000</td>\n    </tr>\n    <tr>\n      <th>50%</th>\n      <td>62827.500000</td>\n      <td>0.000000</td>\n      <td>2.000000</td>\n      <td>29.979744</td>\n      <td>-0.039572</td>\n      <td>2.000000</td>\n      <td>2.000000</td>\n      <td>3.000000</td>\n      <td>2.000000</td>\n    </tr>\n    <tr>\n      <th>75%</th>\n      <td>94438.750000</td>\n      <td>0.000000</td>\n      <td>2.000000</td>\n      <td>33.344593</td>\n      <td>0.826206</td>\n      <td>2.000000</td>\n      <td>3.000000</td>\n      <td>4.000000</td>\n      <td>2.000000</td>\n    </tr>\n    <tr>\n      <th>max</th>\n      <td>126184.000000</td>\n      <td>1.000000</td>\n      <td>3.000000</td>\n      <td>50.375913</td>\n      <td>1.691984</td>\n      <td>2.000000</td>\n      <td>4.000000</td>\n      <td>4.000000</td>\n      <td>2.000000</td>\n    </tr>\n  </tbody>\n</table>\n</div>",
      "text/plain": "                  ID      purchase            V1            V2            V3  \\\ncount   84534.000000  84534.000000  84534.000000  84534.000000  84534.000000   \nmean    62970.972413      0.012303      1.500662     29.973600      0.000190   \nstd     36418.440539      0.110234      0.868234      5.010626      1.000485   \nmin         1.000000      0.000000      0.000000      7.104007     -1.684550   \n25%     31467.250000      0.000000      1.000000     26.591501     -0.905350   \n50%     62827.500000      0.000000      2.000000     29.979744     -0.039572   \n75%     94438.750000      0.000000      2.000000     33.344593      0.826206   \nmax    126184.000000      1.000000      3.000000     50.375913      1.691984   \n\n                 V4            V5            V6            V7  \ncount  84534.000000  84534.000000  84534.000000  84534.000000  \nmean       1.679608      2.327643      2.502898      1.701694  \nstd        0.466630      0.841167      1.117349      0.457517  \nmin        1.000000      1.000000      1.000000      1.000000  \n25%        1.000000      2.000000      2.000000      1.000000  \n50%        2.000000      2.000000      3.000000      2.000000  \n75%        2.000000      3.000000      4.000000      2.000000  \nmax        2.000000      4.000000      4.000000      2.000000  "
     },
     "execution_count": 4,
     "metadata": {},
     "output_type": "execute_result"
    }
   ],
   "source": [
    "#check statistics of training data\n",
    "train_data.describe()"
   ]
  },
  {
   "cell_type": "code",
   "execution_count": 5,
   "metadata": {},
   "outputs": [
    {
     "data": {
      "text/plain": "ID             int64\nPromotion     object\npurchase       int64\nV1             int64\nV2           float64\nV3           float64\nV4             int64\nV5             int64\nV6             int64\nV7             int64\ndtype: object"
     },
     "execution_count": 5,
     "metadata": {},
     "output_type": "execute_result"
    }
   ],
   "source": [
    "#check data type\n",
    "train_data.dtypes"
   ]
  },
  {
   "cell_type": "code",
   "execution_count": 9,
   "metadata": {},
   "outputs": [
    {
     "name": "stdout",
     "output_type": "stream",
     "text": [
      "The control group is of size 42170\n",
      "The treat group is of size 42364\n"
     ]
    }
   ],
   "source": [
    "#calculate the size of each group\n",
    "n_ctrl = train_data.groupby('Promotion')['Promotion'].count()[0]\n",
    "n_treat = train_data.groupby('Promotion')['Promotion'].count()[1]\n",
    "print ('The control group is of size %d' %n_ctrl)\n",
    "print ('The treat group is of size %d' %n_treat)"
   ]
  },
  {
   "cell_type": "code",
   "execution_count": 10,
   "metadata": {},
   "outputs": [
    {
     "name": "stdout",
     "output_type": "stream",
     "text": [
      "The number of purchaser in the control group is 319\n",
      "The number of purchaser in the treat group is 721\n"
     ]
    }
   ],
   "source": [
    "#calculate the number of purchaser in each group\n",
    "pur_ctrl = train_data.groupby('Promotion')['purchase'].sum()[0]\n",
    "pur_treat = train_data.groupby('Promotion')['purchase'].sum()[1]\n",
    "\n",
    "print ('The number of purchaser in the control group is %d' %pur_ctrl)\n",
    "print ('The number of purchaser in the treat group is %d' %pur_treat)"
   ]
  },
  {
   "cell_type": "code",
   "execution_count": 11,
   "metadata": {},
   "outputs": [
    {
     "name": "stdout",
     "output_type": "stream",
     "text": [
      "proportion of no promotion is 0.4989, proportion of promotion is 0.5011\n"
     ]
    }
   ],
   "source": [
    "pct_ctrl = n_ctrl / train_data.shape[0]\n",
    "pct_treat = n_treat / train_data.shape[0]\n",
    "\n",
    "print(\"proportion of no promotion is %.4f, proportion of promotion is %.4f\" % (pct_ctrl, pct_treat))"
   ]
  },
  {
   "cell_type": "code",
   "execution_count": 14,
   "metadata": {},
   "outputs": [
    {
     "name": "stdout",
     "output_type": "stream",
     "text": [
      "The purchase ratio of treat group is  0.017\n",
      "The purchased ratio of control group is  0.0076\n"
     ]
    }
   ],
   "source": [
    "print(\"The purchase ratio of treat group is \" , round(pur_treat/n_treat, 4))\n",
    "print(\"The purchased ratio of control group is \", round(pur_ctrl/n_ctrl, 4))"
   ]
  },
  {
   "cell_type": "code",
   "execution_count": 15,
   "metadata": {},
   "outputs": [
    {
     "name": "stdout",
     "output_type": "stream",
     "text": [
      "The purchase ratio of treat group is significantly higher than the control group.\n"
     ]
    }
   ],
   "source": [
    "# Use z_test to test if the purchase ratio of treat group is significantly higher with alpha = 0.05\n",
    "count = np.array([pur_ctrl, pur_treat])\n",
    "obs = np.array([n_ctrl, n_treat])\n",
    "\n",
    "z, p = propstest.proportions_ztest(count, obs)\n",
    "\n",
    "alpha = 0.05\n",
    "if (p < alpha):\n",
    "    print('The purchase ratio of treat group is significantly higher than the control group.')\n",
    "else:\n",
    "    print('The purchase ratio of treat group is not significantly higher than the control group.')\n"
   ]
  },
  {
   "cell_type": "markdown",
   "metadata": {},
   "source": [
    "# Define Metrics"
   ]
  },
  {
   "cell_type": "code",
   "execution_count": 16,
   "metadata": {},
   "outputs": [],
   "source": [
    "# Define first evaluation metric IRR\n",
    "def irr(pur_treat, n_treat, pur_ctrl, n_ctrl):\n",
    "    return (pur_treat / n_treat - pur_ctrl / n_ctrl)"
   ]
  },
  {
   "cell_type": "code",
   "execution_count": 17,
   "metadata": {},
   "outputs": [],
   "source": [
    "# Define second evaluation metric NIR\n",
    "def nir(pur_treat, n_treat, pur_ctrl):\n",
    "    return (pur_treat * 10 - n_treat * 0.15 - pur_ctrl * 10)"
   ]
  },
  {
   "cell_type": "code",
   "execution_count": 19,
   "metadata": {},
   "outputs": [
    {
     "name": "stdout",
     "output_type": "stream",
     "text": [
      "The IRR of the train data is 0.0095\n",
      "The NIR of the train data is -2334.6000\n"
     ]
    }
   ],
   "source": [
    "train_data_irr = irr(pur_treat, n_treat, pur_ctrl, n_ctrl)\n",
    "train_data_nir = nir(pur_treat, n_treat, pur_ctrl)\n",
    "print('The IRR of the train data is %.4f' %train_data_irr)\n",
    "print('The NIR of the train data is %.4f' %train_data_nir)"
   ]
  },
  {
   "cell_type": "markdown",
   "metadata": {},
   "source": [
    "# Modeling"
   ]
  },
  {
   "cell_type": "markdown",
   "metadata": {},
   "source": [
    "The optimization strategy is distributing coupons only to the people who will purchase the product. So the purpose of this model is try to predict which customer will purchase the product based on theIR features V1-V7. \n",
    "The modeling process is as following:\n",
    "* Randomly extract 1040 customers from people who didn't purchase the product, and combine them with customers who bought the product, so that the two group are of the same size.\n",
    "* Find categorical variables and generate dummy variables from them\n",
    "* Split the total sample into train group and test group, with test_size = 0.2\n",
    "* Use the train group to train the Logistic Regression model\n",
    "* Use the model to predict the purchasing behavior of the test group\n",
    "* Evaluate the model"
   ]
  },
  {
   "cell_type": "code",
   "execution_count": 20,
   "metadata": {},
   "outputs": [
    {
     "data": {
      "text/html": "<div>\n<style scoped>\n    .dataframe tbody tr th:only-of-type {\n        vertical-align: middle;\n    }\n\n    .dataframe tbody tr th {\n        vertical-align: top;\n    }\n\n    .dataframe thead th {\n        text-align: right;\n    }\n</style>\n<table border=\"1\" class=\"dataframe\">\n  <thead>\n    <tr style=\"text-align: right;\">\n      <th></th>\n      <th>ID</th>\n      <th>Promotion</th>\n      <th>purchase</th>\n      <th>V1</th>\n      <th>V2</th>\n      <th>V3</th>\n      <th>V4</th>\n      <th>V5</th>\n      <th>V6</th>\n      <th>V7</th>\n    </tr>\n  </thead>\n  <tbody>\n    <tr>\n      <th>107</th>\n      <td>162</td>\n      <td>Yes</td>\n      <td>1</td>\n      <td>1</td>\n      <td>33.030562</td>\n      <td>-0.732194</td>\n      <td>2</td>\n      <td>1</td>\n      <td>1</td>\n      <td>1</td>\n    </tr>\n    <tr>\n      <th>328</th>\n      <td>503</td>\n      <td>Yes</td>\n      <td>1</td>\n      <td>3</td>\n      <td>31.760033</td>\n      <td>1.518828</td>\n      <td>2</td>\n      <td>1</td>\n      <td>2</td>\n      <td>2</td>\n    </tr>\n    <tr>\n      <th>352</th>\n      <td>534</td>\n      <td>Yes</td>\n      <td>1</td>\n      <td>2</td>\n      <td>17.512709</td>\n      <td>1.259095</td>\n      <td>2</td>\n      <td>3</td>\n      <td>4</td>\n      <td>2</td>\n    </tr>\n    <tr>\n      <th>383</th>\n      <td>580</td>\n      <td>Yes</td>\n      <td>1</td>\n      <td>1</td>\n      <td>31.043735</td>\n      <td>-1.338239</td>\n      <td>2</td>\n      <td>1</td>\n      <td>2</td>\n      <td>1</td>\n    </tr>\n    <tr>\n      <th>423</th>\n      <td>639</td>\n      <td>No</td>\n      <td>1</td>\n      <td>1</td>\n      <td>34.901993</td>\n      <td>-0.905350</td>\n      <td>2</td>\n      <td>3</td>\n      <td>2</td>\n      <td>2</td>\n    </tr>\n  </tbody>\n</table>\n</div>",
      "text/plain": "      ID Promotion  purchase  V1         V2        V3  V4  V5  V6  V7\n107  162       Yes         1   1  33.030562 -0.732194   2   1   1   1\n328  503       Yes         1   3  31.760033  1.518828   2   1   2   2\n352  534       Yes         1   2  17.512709  1.259095   2   3   4   2\n383  580       Yes         1   1  31.043735 -1.338239   2   1   2   1\n423  639        No         1   1  34.901993 -0.905350   2   3   2   2"
     },
     "execution_count": 20,
     "metadata": {},
     "output_type": "execute_result"
    }
   ],
   "source": [
    "# Randomly sample 1040 rows from not purchased dataset\n",
    "# Combine it with all the rows from purchased dataset\n",
    "pur = train_data[train_data['purchase'] == 1]\n",
    "not_pur = train_data[train_data['purchase'] == 0].sample(1040)\n",
    "sample = pd.concat([pur, not_pur], axis = 0)\n",
    "sample.head()"
   ]
  },
  {
   "cell_type": "code",
   "execution_count": 21,
   "metadata": {},
   "outputs": [
    {
     "data": {
      "text/html": "<div>\n<style scoped>\n    .dataframe tbody tr th:only-of-type {\n        vertical-align: middle;\n    }\n\n    .dataframe tbody tr th {\n        vertical-align: top;\n    }\n\n    .dataframe thead th {\n        text-align: right;\n    }\n</style>\n<table border=\"1\" class=\"dataframe\">\n  <thead>\n    <tr style=\"text-align: right;\">\n      <th></th>\n      <th>ID</th>\n      <th>Promotion</th>\n      <th>purchase</th>\n      <th>V2</th>\n      <th>V3</th>\n      <th>V1_0</th>\n      <th>V1_1</th>\n      <th>V1_2</th>\n      <th>V1_3</th>\n      <th>V4_1</th>\n      <th>...</th>\n      <th>V5_1</th>\n      <th>V5_2</th>\n      <th>V5_3</th>\n      <th>V5_4</th>\n      <th>V6_1</th>\n      <th>V6_2</th>\n      <th>V6_3</th>\n      <th>V6_4</th>\n      <th>V7_1</th>\n      <th>V7_2</th>\n    </tr>\n  </thead>\n  <tbody>\n    <tr>\n      <th>107</th>\n      <td>162</td>\n      <td>Yes</td>\n      <td>1</td>\n      <td>33.030562</td>\n      <td>-0.732194</td>\n      <td>0</td>\n      <td>1</td>\n      <td>0</td>\n      <td>0</td>\n      <td>0</td>\n      <td>...</td>\n      <td>1</td>\n      <td>0</td>\n      <td>0</td>\n      <td>0</td>\n      <td>1</td>\n      <td>0</td>\n      <td>0</td>\n      <td>0</td>\n      <td>1</td>\n      <td>0</td>\n    </tr>\n    <tr>\n      <th>328</th>\n      <td>503</td>\n      <td>Yes</td>\n      <td>1</td>\n      <td>31.760033</td>\n      <td>1.518828</td>\n      <td>0</td>\n      <td>0</td>\n      <td>0</td>\n      <td>1</td>\n      <td>0</td>\n      <td>...</td>\n      <td>1</td>\n      <td>0</td>\n      <td>0</td>\n      <td>0</td>\n      <td>0</td>\n      <td>1</td>\n      <td>0</td>\n      <td>0</td>\n      <td>0</td>\n      <td>1</td>\n    </tr>\n    <tr>\n      <th>352</th>\n      <td>534</td>\n      <td>Yes</td>\n      <td>1</td>\n      <td>17.512709</td>\n      <td>1.259095</td>\n      <td>0</td>\n      <td>0</td>\n      <td>1</td>\n      <td>0</td>\n      <td>0</td>\n      <td>...</td>\n      <td>0</td>\n      <td>0</td>\n      <td>1</td>\n      <td>0</td>\n      <td>0</td>\n      <td>0</td>\n      <td>0</td>\n      <td>1</td>\n      <td>0</td>\n      <td>1</td>\n    </tr>\n    <tr>\n      <th>383</th>\n      <td>580</td>\n      <td>Yes</td>\n      <td>1</td>\n      <td>31.043735</td>\n      <td>-1.338239</td>\n      <td>0</td>\n      <td>1</td>\n      <td>0</td>\n      <td>0</td>\n      <td>0</td>\n      <td>...</td>\n      <td>1</td>\n      <td>0</td>\n      <td>0</td>\n      <td>0</td>\n      <td>0</td>\n      <td>1</td>\n      <td>0</td>\n      <td>0</td>\n      <td>1</td>\n      <td>0</td>\n    </tr>\n    <tr>\n      <th>423</th>\n      <td>639</td>\n      <td>No</td>\n      <td>1</td>\n      <td>34.901993</td>\n      <td>-0.905350</td>\n      <td>0</td>\n      <td>1</td>\n      <td>0</td>\n      <td>0</td>\n      <td>0</td>\n      <td>...</td>\n      <td>0</td>\n      <td>0</td>\n      <td>1</td>\n      <td>0</td>\n      <td>0</td>\n      <td>1</td>\n      <td>0</td>\n      <td>0</td>\n      <td>0</td>\n      <td>1</td>\n    </tr>\n  </tbody>\n</table>\n<p>5 rows × 21 columns</p>\n</div>",
      "text/plain": "      ID Promotion  purchase         V2        V3  V1_0  V1_1  V1_2  V1_3  \\\n107  162       Yes         1  33.030562 -0.732194     0     1     0     0   \n328  503       Yes         1  31.760033  1.518828     0     0     0     1   \n352  534       Yes         1  17.512709  1.259095     0     0     1     0   \n383  580       Yes         1  31.043735 -1.338239     0     1     0     0   \n423  639        No         1  34.901993 -0.905350     0     1     0     0   \n\n     V4_1  ...  V5_1  V5_2  V5_3  V5_4  V6_1  V6_2  V6_3  V6_4  V7_1  V7_2  \n107     0  ...     1     0     0     0     1     0     0     0     1     0  \n328     0  ...     1     0     0     0     0     1     0     0     0     1  \n352     0  ...     0     0     1     0     0     0     0     1     0     1  \n383     0  ...     1     0     0     0     0     1     0     0     1     0  \n423     0  ...     0     0     1     0     0     1     0     0     0     1  \n\n[5 rows x 21 columns]"
     },
     "execution_count": 21,
     "metadata": {},
     "output_type": "execute_result"
    }
   ],
   "source": [
    "# Get categorical variables and generate dummy variables\n",
    "cat_var = train_data.select_dtypes('int').columns\n",
    "cat_var = cat_var.drop(['ID', 'purchase'])\n",
    "\n",
    "sample = pd.get_dummies(data = sample, columns = cat_var)\n",
    "sample.head()"
   ]
  },
  {
   "cell_type": "code",
   "execution_count": 22,
   "metadata": {},
   "outputs": [],
   "source": [
    "# Generate feature matrix x and reponse y\n",
    "# Split them into train data and test data\n",
    "x = sample.loc[:,'V2':]\n",
    "y = sample['purchase']\n",
    "\n",
    "train_x, test_x, train_y, test_y = train_test_split(x, y, test_size=0.2, random_state=42)"
   ]
  },
  {
   "cell_type": "code",
   "execution_count": 23,
   "metadata": {},
   "outputs": [
    {
     "data": {
      "text/plain": "LogisticRegression()"
     },
     "execution_count": 23,
     "metadata": {},
     "output_type": "execute_result"
    }
   ],
   "source": [
    "# Use train_x and train_y to train the logistic model\n",
    "lgr = LogisticRegression()\n",
    "\n",
    "lgr.fit(train_x, train_y)"
   ]
  },
  {
   "cell_type": "code",
   "execution_count": 24,
   "metadata": {},
   "outputs": [
    {
     "name": "stdout",
     "output_type": "stream",
     "text": [
      "The precision score of the model is 0.5662\n",
      "The recall score of the model is 0.5822\n"
     ]
    }
   ],
   "source": [
    "# Put test_x into the model to predict pred_y\n",
    "# Compute the precision rate and recall rate\n",
    "pred_y = lgr.predict(test_x)\n",
    "\n",
    "precision = precision_score(test_y, pred_y)\n",
    "recall = recall_score(test_y, pred_y)\n",
    "\n",
    "print('The precision score of the model is %.4f' %precision)\n",
    "print('The recall score of the model is %.4f' %recall)"
   ]
  },
  {
   "cell_type": "code",
   "execution_count": 25,
   "metadata": {},
   "outputs": [
    {
     "data": {
      "text/html": "<div>\n<style scoped>\n    .dataframe tbody tr th:only-of-type {\n        vertical-align: middle;\n    }\n\n    .dataframe tbody tr th {\n        vertical-align: top;\n    }\n\n    .dataframe thead th {\n        text-align: right;\n    }\n</style>\n<table border=\"1\" class=\"dataframe\">\n  <thead>\n    <tr style=\"text-align: right;\">\n      <th></th>\n      <th>act_No</th>\n      <th>act_Yes</th>\n    </tr>\n  </thead>\n  <tbody>\n    <tr>\n      <th>pred_No</th>\n      <td>108</td>\n      <td>89</td>\n    </tr>\n    <tr>\n      <th>pred_Yes</th>\n      <td>95</td>\n      <td>124</td>\n    </tr>\n  </tbody>\n</table>\n</div>",
      "text/plain": "          act_No  act_Yes\npred_No      108       89\npred_Yes      95      124"
     },
     "execution_count": 25,
     "metadata": {},
     "output_type": "execute_result"
    }
   ],
   "source": [
    "# use a confusion matrix to show the comparison of the predicted promotion and the actual promotion\n",
    "con_mat = pd.DataFrame(confusion_matrix(pred_y, test_y), index = ['pred_No', 'pred_Yes'], columns = ['act_No', 'act_Yes'])\n",
    "con_mat"
   ]
  },
  {
   "cell_type": "markdown",
   "metadata": {},
   "source": [
    "# Test the Promotion Strategy"
   ]
  },
  {
   "cell_type": "code",
   "execution_count": 26,
   "metadata": {},
   "outputs": [],
   "source": [
    "def promotion_strategy(df):\n",
    "    '''\n",
    "    INPUT \n",
    "    df - a dataframe with *only* the columns V1 - V7 (same as train_data)\n",
    "\n",
    "    OUTPUT\n",
    "    promotion_df - np.array with the values\n",
    "                   'Yes' or 'No' related to whether or not an \n",
    "                   individual should recieve a promotion \n",
    "                   should be the length of df.shape[0]\n",
    "                \n",
    "    Ex:\n",
    "    INPUT: df\n",
    "    \n",
    "    V1\tV2\t  V3\tV4\tV5\tV6\tV7\n",
    "    2\t30\t-1.1\t1\t1\t3\t2\n",
    "    3\t32\t-0.6\t2\t3\t2\t2\n",
    "    2\t30\t0.13\t1\t1\t4\t2\n",
    "    \n",
    "    OUTPUT: promotion\n",
    "    \n",
    "    array(['Yes', 'Yes', 'No'])\n",
    "    indicating the first two users would recieve the promotion and \n",
    "    the last should not.\n",
    "    '''\n",
    "\n",
    "    x = pd.get_dummies(data = df, columns = cat_var)   \n",
    "    \n",
    "    #x = x.loc[:, 'V3':]\n",
    "    promotion = lgr.predict(x)\n",
    "    \n",
    "    my_map = {0: \"No\", 1: \"Yes\"}\n",
    "    promotion = np.array([my_map[i] for i in promotion])\n",
    "    \n",
    "    return promotion"
   ]
  },
  {
   "cell_type": "code",
   "execution_count": 27,
   "metadata": {},
   "outputs": [
    {
     "name": "stdout",
     "output_type": "stream",
     "text": [
      "Nice job!  See how well your strategy worked on our test data below!\n",
      "\n",
      "Your irr with this strategy is 0.0180.\n",
      "\n",
      "Your nir with this strategy is 279.70.\n",
      "We came up with a model with an irr of 0.0188 and an nir of 189.45 on the test set.\n",
      "\n",
      " How did you do?\n"
     ]
    },
    {
     "data": {
      "text/plain": "(0.01796459294878825, 279.70000000000005)"
     },
     "execution_count": 27,
     "metadata": {},
     "output_type": "execute_result"
    }
   ],
   "source": [
    "# This will test your results, and provide you back some information \n",
    "# on how well your promotion_strategy will work in practice\n",
    "\n",
    "test_results(promotion_strategy)"
   ]
  }
 ],
 "metadata": {
  "kernelspec": {
   "display_name": "Python 3",
   "language": "python",
   "name": "python3"
  },
  "language_info": {
   "codemirror_mode": {
    "name": "ipython",
    "version": 3
   },
   "file_extension": ".py",
   "mimetype": "text/x-python",
   "name": "python",
   "nbconvert_exporter": "python",
   "pygments_lexer": "ipython3",
   "version": "3.8.3"
  }
 },
 "nbformat": 4,
 "nbformat_minor": 2
}